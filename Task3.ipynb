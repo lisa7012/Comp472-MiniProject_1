{
 "cells": [
  {
   "cell_type": "markdown",
   "id": "28ca8cb4",
   "metadata": {},
   "source": [
    "## 3. Embeddings as Features"
   ]
  },
  {
   "cell_type": "code",
   "execution_count": null,
   "id": "b9b9f727",
   "metadata": {},
   "outputs": [],
   "source": [
    "import gensim.downloader as api\n",
    "import nltk\n",
    "import gzip\n",
    "import json\n",
    "import numpy as np\n",
    "from sklearn.model_selection import train_test_split\n",
    "from sklearn.model_selection import GridSearchCV\n",
    "from sklearn.metrics import confusion_matrix\n",
    "from sklearn.metrics import classification_report\n",
    "from sklearn.neural_network import MLPClassifier\n",
    "\n",
    "\n",
    "from sklearn.metrics import ConfusionMatrixDisplay  #coa be combined with above code\n",
    "from sklearn.svm import SVC\n",
    "\n",
    "# import matplotlib.pyplot as plt\n",
    "# from sklearn.metrics import plot_confusion_matrix\n",
    "# from sklearn.svm import SVC"
   ]
  },
  {
   "cell_type": "code",
   "execution_count": null,
   "id": "f77899cd",
   "metadata": {},
   "outputs": [],
   "source": [
    "# pre-trained model with google news datases, covering 3milion words and phrases\n",
    "embeddings = api.load('word2vec-google-news-300')"
   ]
  },
  {
   "cell_type": "code",
   "execution_count": null,
   "id": "1360d832",
   "metadata": {},
   "outputs": [],
   "source": [
    "# The vocab attribute was removed from KeyedVector in Gensim 4.0.0.\n",
    "# Use KeyedVector's .key_to_index dict, .index_to_key list, and methods .get_vecattr(key, attr) and .set_vecattr(key, attr, new_val) instead."
   ]
  },
  {
   "cell_type": "code",
   "execution_count": null,
   "id": "ed302219",
   "metadata": {},
   "outputs": [],
   "source": [
    "with gzip.open(\"dataset/goemotions.json.gz\", \"rb\") as f:\n",
    "    data = json.loads(f.read())\n",
    "\n",
    "dataset = np.array(data)\n",
    "\n",
    "# Extracting posts, emotions and sentiments\n",
    "posts = dataset[:, 0]\n",
    "emotions = dataset[:, 1]\n",
    "sentiments = dataset[:, 2]"
   ]
  },
  {
   "cell_type": "markdown",
   "id": "23f459ee",
   "metadata": {},
   "source": [
    "## 3.7 save output"
   ]
  },
  {
   "cell_type": "code",
   "execution_count": null,
   "id": "0fe7cdb3",
   "metadata": {},
   "outputs": [],
   "source": [
    "# Function to save output to text files\n",
    "def save_output(model_name, classification_task, y_test, y_pred, fileName, hyper_parameters=None):\n",
    "    with open(fileName, 'a') as f:\n",
    "\n",
    "        # Model name + hyper parameters + classification task\n",
    "        f.writelines(['===========================================================\\n',\n",
    "                      model_name + ' for --> ' + classification_task + '\\n(Hyper Parameters: ' + str(hyper_parameters) + ')\\n'\n",
    "                      , '===========================================================\\n'])\n",
    "        # Confusion Matrix\n",
    "        f.write('\\nConfusion Matrix:\\n-----------------\\n\\n' + str(confusion_matrix(y_test, y_pred)) + '\\n')\n",
    "        \n",
    "        # Classfication Report\n",
    "        f.write('\\nClassification Report:\\n----------------------\\n\\n' + classification_report(y_test, y_pred) + '\\n\\n')"
   ]
  },
  {
   "cell_type": "markdown",
   "id": "f07fcca9",
   "metadata": {},
   "source": [
    "### 3.2"
   ]
  },
  {
   "cell_type": "code",
   "execution_count": null,
   "id": "05d2148a",
   "metadata": {},
   "outputs": [],
   "source": [
    "# tokenizes each reddit post and stores in the list  [['That','game','hurt','.'],...]\n",
    "def tokenizePosts(posts):\n",
    "    tokenizedPostsList = []\n",
    "    for post in posts:\n",
    "        tokenizedPostsList.append(nltk.word_tokenize(post)) \n",
    "    return tokenizedPostsList\n",
    "\n",
    "\n",
    "## do we want clean tokens e.g.no punctuations, symbols etc.."
   ]
  },
  {
   "cell_type": "code",
   "execution_count": null,
   "id": "170b4b19",
   "metadata": {},
   "outputs": [],
   "source": [
    "tokenizedPostsList = tokenizePosts(posts)"
   ]
  },
  {
   "cell_type": "code",
   "execution_count": null,
   "id": "68e9bc79",
   "metadata": {},
   "outputs": [],
   "source": [
    "# Splitting training and testing dataset for posts and emotions\n",
    "# ex) [['That','game','hurt','.'],...]\n",
    "x_train, x_test, y_train_emo, y_test_emo, y_train_sen, y_test_sen = train_test_split(tokenizedPostsList, emotions, sentiments, test_size=0.2, random_state=0)"
   ]
  },
  {
   "cell_type": "code",
   "execution_count": null,
   "id": "d28ebc52",
   "metadata": {},
   "outputs": [],
   "source": [
    "# number of tokens in our training set\n",
    "def countTokens(x_train):\n",
    "    count = 0\n",
    "    for post in x_train:\n",
    "        count = count + len(post)\n",
    "    return count"
   ]
  },
  {
   "cell_type": "code",
   "execution_count": null,
   "id": "de5f789b",
   "metadata": {},
   "outputs": [],
   "source": [
    "countTokens(x_train)"
   ]
  },
  {
   "cell_type": "markdown",
   "id": "217c4459",
   "metadata": {},
   "source": [
    "## 3.3 "
   ]
  },
  {
   "cell_type": "code",
   "execution_count": null,
   "id": "a319eee8",
   "metadata": {},
   "outputs": [],
   "source": [
    "def computeAvgPostEmbedding(embeddings, tokenizedPostsList):\n",
    "    avgPostEmbeddingsList = []\n",
    "    \n",
    "    for post in tokenizedPostsList:\n",
    "        #removing word not in vocab\n",
    "        filteredPost = [w for w in post if w in embeddings.index_to_key]\n",
    "        if len(filteredPost)>=1:\n",
    "            avgPostEmbeddingsList.append(np.mean(embeddings[filteredPost],axis=0))\n",
    "            \n",
    "        # else: check another time! \n",
    "    return avgPostEmbeddingsList"
   ]
  },
  {
   "cell_type": "code",
   "execution_count": null,
   "id": "b6207c30",
   "metadata": {},
   "outputs": [],
   "source": [
    "onePost = [tokenizedPostsList[0]]"
   ]
  },
  {
   "cell_type": "code",
   "execution_count": null,
   "id": "37c09ab9",
   "metadata": {},
   "outputs": [],
   "source": [
    "print( \"This is an average embedding of one reddit post 'That game hurt.' : \\n\", computeAvgPostEmbedding(embeddings, onePost))"
   ]
  },
  {
   "cell_type": "markdown",
   "id": "1b1b2802",
   "metadata": {},
   "source": [
    "## 3.4 Computing overall hit rate"
   ]
  },
  {
   "cell_type": "code",
   "execution_count": null,
   "id": "d269e7d4",
   "metadata": {},
   "outputs": [],
   "source": [
    "def computeHitRate(embeddings, postList, setType):\n",
    "    filteredPost = []\n",
    "    for post in postList:\n",
    "        filteredPost.append([w for w in post if w in embeddings.index_to_key])\n",
    "    \n",
    "    hitRate = countTokens(filteredPost)/countTokens(postList)*100\n",
    "    print(setType,\" hit rate: \", round(hitRate,2) , \"%\")\n",
    "   \n",
    "    # return hitRate"
   ]
  },
  {
   "cell_type": "code",
   "execution_count": null,
   "id": "71b8db91",
   "metadata": {},
   "outputs": [],
   "source": [
    "computeHitRate(embeddings, x_train, \"Train set\")"
   ]
  },
  {
   "cell_type": "code",
   "execution_count": null,
   "id": "ee98744b",
   "metadata": {},
   "outputs": [],
   "source": [
    "computeHitRate(embeddings, x_test, \"Test set\")"
   ]
  },
  {
   "cell_type": "markdown",
   "id": "34e65a23",
   "metadata": {},
   "source": [
    "## Data prep"
   ]
  },
  {
   "cell_type": "code",
   "execution_count": null,
   "id": "638ca8eb",
   "metadata": {},
   "outputs": [],
   "source": [
    "# average vector form of x_train\n",
    "trainAvgEmbeddingsList = computeAvgPostEmbedding(embeddings,x_train)"
   ]
  },
  {
   "cell_type": "code",
   "execution_count": null,
   "id": "7364b4e1",
   "metadata": {},
   "outputs": [],
   "source": [
    "testAvgEmbeddingsList = computeAvgPostEmbedding(embeddings,x_test)"
   ]
  },
  {
   "cell_type": "markdown",
   "id": "cf135bb0",
   "metadata": {},
   "source": [
    "## 3.5 Base-MLP"
   ]
  },
  {
   "cell_type": "markdown",
   "id": "b6bd2539",
   "metadata": {},
   "source": [
    "Base Multi-Layered Perceptron (Base-MLP) with default parameters"
   ]
  },
  {
   "cell_type": "code",
   "execution_count": null,
   "id": "48ba4af1",
   "metadata": {},
   "outputs": [],
   "source": [
    "# Although we are asked to use default parameters and dataset is large, the MLP model takes too long to train. \n",
    "# Hence, we set a parameter of max iteration to 2. (Takes about 2 minutes to train for each classification task)\n",
    "def BaseMLPClassifier(feature, label, x_test, y_test, classification_task, fileName):\n",
    "    MLP = MLPClassifier(max_iter=2)\n",
    "    MLP.fit(feature, label) # training\n",
    "    y_pred = MLP.predict(x_test) # testing\n",
    "    \n",
    "    # Display confusion matrix\n",
    "    ConfusionMatrixDisplay.from_predictions(y_test, y_pred)\n",
    "    plt.show()\n",
    "    \n",
    "    #save output\n",
    "    save_output('Base Multi-Layered Perceptron Model', classification_task, y_test, y_pred, fileName)    "
   ]
  },
  {
   "cell_type": "code",
   "execution_count": null,
   "id": "ba6a5b5f",
   "metadata": {},
   "outputs": [],
   "source": [
    "# Classification Task: Emotions\n",
    "BaseMLPClassifier(trainAvgEmbeddingsList, y_train_emo, testAvgEmbeddingsList, y_test_emo, 'Emotions', 'googleNews_performance.txt')\n",
    "\n",
    "# Classification Task: Sentiments\n",
    "BaseMLPClassifier(trainAvgEmbeddingsList, y_train_sen, testAvgEmbeddingsList, y_test_sen, 'Sentiments', 'googleNews_performance.txt')"
   ]
  },
  {
   "cell_type": "markdown",
   "id": "a8a1a25b",
   "metadata": {},
   "source": [
    "## 3.6 Top-MLP"
   ]
  },
  {
   "cell_type": "code",
   "execution_count": null,
   "id": "f68107b4",
   "metadata": {},
   "outputs": [],
   "source": [
    "# Hyper parameters for Top-MLP\n",
    "MLPparams = {'activation': ('relu','logistic'),\n",
    "            'hidden_layer_sizes': ((80,),(10,10)),\n",
    "            'solver': ('adam','sgd'),\n",
    "            'max_iter':2,\n",
    "            'learning_rate_init':1.0,\n",
    "            'learning_rate':('constant')\n",
    "            }\n",
    "\n",
    "# Because the dataset is too large, the MLP model takes too long to train. Hence, we set a parameter of max\n",
    "# iteration to 2. (Takes about 2 minutes to train for each combination of parameters and classification task)\n",
    "def TopMLPClassifier(feature, label, x_test, y_test, classification_task, fileName):\n",
    "    TopMLP = GridSearchCV(estimator=MLPClassifier(), param_grid=MLPparams)\n",
    "    TopMLP.fit(feature, label)\n",
    "    y_pred = TopMLP.predict(x_test)\n",
    "    \n",
    "    # Display confusion matrix\n",
    "    ConfusionMatrixDisplay.from_predictions(y_test, y_pred)\n",
    "    plt.show()\n",
    "    \n",
    "    # save\n",
    "    save_output('Top Multi-Layered Perceptron Model', classification_task, y_test, y_pred, fileName, MLPparams)"
   ]
  },
  {
   "cell_type": "code",
   "execution_count": null,
   "id": "1bd161b7",
   "metadata": {},
   "outputs": [],
   "source": [
    "# Classification Task: Emotions\n",
    "TopMLPClassifier(trainAvgEmbeddingsList, y_train_emo, testAvgEmbeddingsList, y_test_emo, 'Emotions', 'googleNews_performance.txt')\n",
    "\n",
    "# Classification Task: Sentiments\n",
    "TopMLPClassifier(trainAvgEmbeddingsList, y_train_sen, testAvgEmbeddingsList, y_test_sen, 'Sentiments', 'googleNews_performance.txt')"
   ]
  },
  {
   "cell_type": "markdown",
   "id": "0756a0e2",
   "metadata": {},
   "source": [
    "## 3.8 exploration"
   ]
  },
  {
   "cell_type": "code",
   "execution_count": null,
   "id": "52fe83b9",
   "metadata": {},
   "outputs": [],
   "source": [
    "print(list(api.info()['models'].keys()))"
   ]
  },
  {
   "cell_type": "markdown",
   "id": "47c5773e",
   "metadata": {},
   "source": [
    "### wiki embeddings"
   ]
  },
  {
   "cell_type": "code",
   "execution_count": null,
   "id": "62928674",
   "metadata": {},
   "outputs": [],
   "source": [
    "wikiEmbeddings = api.load('glove-wiki-gigaword-100')"
   ]
  },
  {
   "cell_type": "code",
   "execution_count": null,
   "id": "408ae647",
   "metadata": {},
   "outputs": [],
   "source": [
    "# x_tain with wiki embeddings\n",
    "trainWiki = computeAvgPostEmbedding(wikiEmbeddings, x_train)\n",
    "\n",
    "# x_test with wiki embeddings\n",
    "testWiki = computeAvgPostEmbedding(wikiEmbeddings, x_test)"
   ]
  },
  {
   "cell_type": "code",
   "execution_count": null,
   "id": "2a5b0ab1",
   "metadata": {},
   "outputs": [],
   "source": [
    "# we chose top-mlp for our best model."
   ]
  },
  {
   "cell_type": "code",
   "execution_count": null,
   "id": "9d0b5d32",
   "metadata": {},
   "outputs": [],
   "source": [
    "TopMLPClassifier(trainWiki, label, testWiki, y_test, 'Emotions', 'wiki_performance.txt')"
   ]
  },
  {
   "cell_type": "code",
   "execution_count": null,
   "id": "ece546cb",
   "metadata": {},
   "outputs": [],
   "source": [
    "TopMLPClassifier(trainWiki, label, testWiki, y_test, 'Sentiments', 'wiki_performance.txt')"
   ]
  },
  {
   "cell_type": "markdown",
   "id": "04588bda",
   "metadata": {},
   "source": [
    "### twitter embeddings"
   ]
  },
  {
   "cell_type": "code",
   "execution_count": null,
   "id": "9db95465",
   "metadata": {},
   "outputs": [],
   "source": [
    "twitterEbmbeddings = api.load('glove-twitter-200')"
   ]
  },
  {
   "cell_type": "code",
   "execution_count": null,
   "id": "1d5990f4",
   "metadata": {},
   "outputs": [],
   "source": [
    "# x_tain with twitter embeddings\n",
    "trainTwitter = computeAvgPostEmbedding(twitterEmbeddings, x_train)\n",
    "\n",
    "# x_test with twitter embeddings\n",
    "testTwitter = computeAvgPostEmbedding(twitterEmbeddings, x_test)"
   ]
  },
  {
   "cell_type": "code",
   "execution_count": null,
   "id": "c441a2f8",
   "metadata": {},
   "outputs": [],
   "source": [
    "# we chose top-mlp for our best model."
   ]
  },
  {
   "cell_type": "code",
   "execution_count": null,
   "id": "6027b40f",
   "metadata": {},
   "outputs": [],
   "source": [
    "TopMLPClassifier(trainTwitter, label, testTwitter, y_test, 'Emotions', 'twitter_performance.txt')"
   ]
  },
  {
   "cell_type": "code",
   "execution_count": null,
   "id": "3081c8e0",
   "metadata": {},
   "outputs": [],
   "source": [
    "TopMLPClassifier(trainTwitter, label, testTwitter, y_test, 'Sentiments', 'twitter_performance.txt')"
   ]
  }
 ],
 "metadata": {
  "kernelspec": {
   "display_name": "Python 3 (ipykernel)",
   "language": "python",
   "name": "python3"
  },
  "language_info": {
   "codemirror_mode": {
    "name": "ipython",
    "version": 3
   },
   "file_extension": ".py",
   "mimetype": "text/x-python",
   "name": "python",
   "nbconvert_exporter": "python",
   "pygments_lexer": "ipython3",
   "version": "3.10.4"
  }
 },
 "nbformat": 4,
 "nbformat_minor": 5
}
