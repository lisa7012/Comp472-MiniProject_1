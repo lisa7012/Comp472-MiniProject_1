{
 "cells": [
  {
   "cell_type": "markdown",
   "id": "28ca8cb4",
   "metadata": {},
   "source": [
    "## 3. Embeddings as Features"
   ]
  },
  {
   "cell_type": "code",
   "execution_count": 1,
   "id": "b9b9f727",
   "metadata": {},
   "outputs": [],
   "source": [
    "import gensim.downloader as api\n",
    "import nltk\n",
    "import gzip\n",
    "import json\n",
    "import numpy as np\n",
    "from sklearn.model_selection import train_test_split"
   ]
  },
  {
   "cell_type": "code",
   "execution_count": 2,
   "id": "f77899cd",
   "metadata": {},
   "outputs": [],
   "source": [
    "# pre-trained model with google news datases, covering 3milion words and phrases\n",
    "embeddings = api.load('word2vec-google-news-300')"
   ]
  },
  {
   "cell_type": "code",
   "execution_count": 3,
   "id": "1360d832",
   "metadata": {},
   "outputs": [],
   "source": [
    "# The vocab attribute was removed from KeyedVector in Gensim 4.0.0.\n",
    "# Use KeyedVector's .key_to_index dict, .index_to_key list, and methods .get_vecattr(key, attr) and .set_vecattr(key, attr, new_val) instead."
   ]
  },
  {
   "cell_type": "code",
   "execution_count": 6,
   "id": "ed302219",
   "metadata": {},
   "outputs": [],
   "source": [
    "with gzip.open(\"dataset/goemotions.json.gz\", \"rb\") as f:\n",
    "    data = json.loads(f.read())\n",
    "\n",
    "dataset = np.array(data)\n",
    "\n",
    "# Extracting posts, emotions and sentiments\n",
    "posts = dataset[:, 0]\n",
    "emotions = dataset[:, 1]\n",
    "sentiments = dataset[:, 2]"
   ]
  },
  {
   "cell_type": "markdown",
   "id": "f07fcca9",
   "metadata": {},
   "source": [
    "### 3.2"
   ]
  },
  {
   "cell_type": "code",
   "execution_count": 7,
   "id": "05d2148a",
   "metadata": {},
   "outputs": [],
   "source": [
    "# tokenizes each reddit post and stores in the list  [['That','game','hurt','.'],...]\n",
    "def tokenizePosts(posts):\n",
    "    tokenizedPostsList = []\n",
    "    for post in posts:\n",
    "        tokenizedPostsList.append(nltk.word_tokenize(post)) \n",
    "    return tokenizedPostsList\n",
    "\n",
    "\n",
    "## do we want clean tokens e.g.no punctuations, symbols etc.."
   ]
  },
  {
   "cell_type": "code",
   "execution_count": 8,
   "id": "170b4b19",
   "metadata": {},
   "outputs": [],
   "source": [
    "tokenizedPostsList = tokenizePosts(posts)"
   ]
  },
  {
   "cell_type": "code",
   "execution_count": 9,
   "id": "68e9bc79",
   "metadata": {},
   "outputs": [],
   "source": [
    "# Splitting training and testing dataset for posts and emotions\n",
    "x_train, x_test, y_train_emo, y_test_emo, y_train_sen, y_test_sen = train_test_split(tokenizedPostsList, emotions, sentiments, test_size=0.2, random_state=0)"
   ]
  },
  {
   "cell_type": "code",
   "execution_count": 19,
   "id": "d28ebc52",
   "metadata": {},
   "outputs": [],
   "source": [
    "# number of tokens in our training set\n",
    "def countTokens(x_train):\n",
    "    count = 0\n",
    "    for post in x_train:\n",
    "        for word in post:\n",
    "            count = count +1\n",
    "    return count"
   ]
  },
  {
   "cell_type": "code",
   "execution_count": 20,
   "id": "de5f789b",
   "metadata": {},
   "outputs": [
    {
     "data": {
      "text/plain": [
       "2112422"
      ]
     },
     "execution_count": 20,
     "metadata": {},
     "output_type": "execute_result"
    }
   ],
   "source": [
    "countTokens(x_train)"
   ]
  },
  {
   "cell_type": "markdown",
   "id": "217c4459",
   "metadata": {},
   "source": [
    "## 3.3 "
   ]
  },
  {
   "cell_type": "code",
   "execution_count": null,
   "id": "a319eee8",
   "metadata": {},
   "outputs": [],
   "source": [
    "def computeAvgPostEmbedding(embeddings, tokenizedPostsList):\n",
    "    avgPostEmbeddingsList = []\n",
    "    \n",
    "    for post in tokenizedPostsList:\n",
    "        #removing word not in vocab\n",
    "        filteredPost = [w for w in post if w in embeddings.index_to_key]\n",
    "        if len(filteredPost)>=1:\n",
    "            avgPostEmbeddingsList.append(np.mean(embeddings[filteredPost],axis=0))\n",
    "            \n",
    "        # else: check another time! \n",
    "    return avgPostEmbeddingsList"
   ]
  },
  {
   "cell_type": "code",
   "execution_count": null,
   "id": "b6207c30",
   "metadata": {},
   "outputs": [],
   "source": [
    "avgPostEmbeddingsList = computeAvgPostEmbedding(embeddings,tokenizedPostsList)"
   ]
  }
 ],
 "metadata": {
  "kernelspec": {
   "display_name": "Python 3 (ipykernel)",
   "language": "python",
   "name": "python3"
  },
  "language_info": {
   "codemirror_mode": {
    "name": "ipython",
    "version": 3
   },
   "file_extension": ".py",
   "mimetype": "text/x-python",
   "name": "python",
   "nbconvert_exporter": "python",
   "pygments_lexer": "ipython3",
   "version": "3.10.4"
  }
 },
 "nbformat": 4,
 "nbformat_minor": 5
}
