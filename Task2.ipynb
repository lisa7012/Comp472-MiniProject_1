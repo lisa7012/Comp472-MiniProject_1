{
 "cells": [
  {
   "cell_type": "markdown",
   "id": "bbb722ec",
   "metadata": {},
   "source": [
    "# Task 2: Words as Features"
   ]
  },
  {
   "cell_type": "markdown",
   "id": "28e37396",
   "metadata": {},
   "source": [
    "## Imports"
   ]
  },
  {
   "cell_type": "code",
   "execution_count": 1,
   "id": "22d8df5a",
   "metadata": {},
   "outputs": [],
   "source": [
    "import gzip\n",
    "import json\n",
    "import numpy as np\n",
    "from sklearn.feature_extraction.text import CountVectorizer\n",
    "from sklearn.model_selection import train_test_split\n",
    "from sklearn.model_selection import GridSearchCV\n",
    "from sklearn.metrics import confusion_matrix\n",
    "from sklearn.metrics import classification_report\n",
    "from sklearn.naive_bayes import MultinomialNB\n",
    "from sklearn.neural_network import MLPClassifier\n",
    "from sklearn import tree"
   ]
  },
  {
   "cell_type": "markdown",
   "id": "6691b06a",
   "metadata": {},
   "source": [
    "## 2.1 Extracting tokens/words and their frequencies"
   ]
  },
  {
   "cell_type": "code",
   "execution_count": 2,
   "id": "60f8fbe5",
   "metadata": {},
   "outputs": [
    {
     "name": "stdout",
     "output_type": "stream",
     "text": [
      "Number of unique tokens (size of vocabulary) in the dataset: 30449\n"
     ]
    }
   ],
   "source": [
    "with gzip.open(\"dataset/goemotions.json.gz\", \"rb\") as f:\n",
    "    data = json.loads(f.read())\n",
    "\n",
    "dataset = np.array(data)\n",
    "\n",
    "# Extracting posts, emotions and sentiments\n",
    "posts = dataset[:, 0]\n",
    "emotions = dataset[:, 1]\n",
    "sentiments = dataset[:, 2]\n",
    "\n",
    "vectorizer = CountVectorizer()\n",
    "# Creates a document-term matrix\n",
    "posts_features = vectorizer.fit_transform(posts)\n",
    "\n",
    "# Printing the number of tokens (size of the vocabulary)\n",
    "print(\"Number of unique tokens (size of vocabulary) in the dataset:\", len(vectorizer.get_feature_names_out()))"
   ]
  },
  {
   "cell_type": "markdown",
   "id": "7e355621",
   "metadata": {},
   "source": [
    "## 2.2 Split the dataset to 80% for training and 20% for testing "
   ]
  },
  {
   "cell_type": "code",
   "execution_count": null,
   "id": "f0b6cb71",
   "metadata": {},
   "outputs": [],
   "source": [
    "# Training and testing dataset for posts and emotions\n",
    "x_train, x_test, y_train_emo, y_test_emo, y_train_sen, y_test_sen = train_test_split(posts_features, emotions, sentiments, test_size=0.2, random_state=0)"
   ]
  },
  {
   "cell_type": "markdown",
   "id": "27e784e5",
   "metadata": {},
   "source": [
    "## 2.4 Saving performance for each classifier and classification (Emotions or Sentiments)"
   ]
  },
  {
   "cell_type": "code",
   "execution_count": null,
   "id": "6a407265",
   "metadata": {},
   "outputs": [],
   "source": [
    "def save_performance(model_name, classification_task, y_test, y_pred, hyper_parameters=None):\n",
    "    with open('performance.txt', 'a') as f:\n",
    "\n",
    "        # Model name + hyper parameters + classification task\n",
    "        f.writelines(['===========================================================\\n',\n",
    "                      model_name + ' for --> ' + classification_task + '\\n(Hyper Parameters: ' + str(hyper_parameters) + ')\\n'\n",
    "                      , '===========================================================\\n'])\n",
    "        # Confusion Matrix\n",
    "        f.write('\\nConfusion Matrix:\\n-----------------\\n\\n' + str(confusion_matrix(y_test, y_pred)) + '\\n')\n",
    "        \n",
    "        # Classfication Report\n",
    "        f.write('\\nClassification Report:\\n----------------------\\n\\n' + classification_report(y_test, y_pred) + '\\n\\n')"
   ]
  },
  {
   "cell_type": "markdown",
   "id": "76bb1c18",
   "metadata": {},
   "source": [
    "## 2.3 Training and testing with classifiers"
   ]
  },
  {
   "cell_type": "markdown",
   "id": "60e44e3a",
   "metadata": {},
   "source": [
    "### 2.3.1 Base Multinomial Naive Bayes (Base-MNB) with default parameters"
   ]
  },
  {
   "cell_type": "code",
   "execution_count": null,
   "id": "f65bef4d",
   "metadata": {},
   "outputs": [],
   "source": [
    "# Function for training and testing with Base MNB\n",
    "def BaseMNBClassifier (feature, label, x_test, y_test, classification_task):\n",
    "    MNB = MultinomialNB()\n",
    "    MNB.fit(feature, label)\n",
    "    y_pred = MNB.predict(x_test)\n",
    "    save_performance('Multinomial Naive Bayes Model', classification_task, y_test, y_pred)\n",
    "\n",
    "# Classification Task: Emotions\n",
    "BaseMNBClassifier(x_train, y_train_emo, x_test, y_test_emo, 'Emotions')\n",
    "\n",
    "# Classification Task: Sentiments\n",
    "BaseMNBClassifier(x_train, y_train_sen, x_test, y_test_sen, 'Sentiments')"
   ]
  },
  {
   "cell_type": "markdown",
   "id": "e40f28d1",
   "metadata": {},
   "source": [
    "### 2.3.2 Base Decision Tree (Base-DT) with default parameters"
   ]
  },
  {
   "cell_type": "code",
   "execution_count": null,
   "id": "8bfaddf1",
   "metadata": {},
   "outputs": [],
   "source": [
    "# Function for training and testing with Base DT\n",
    "def BaseDTClassifier(feature, label, x_test, y_test, classification_task):\n",
    "    BaseDT = tree.DecisionTreeClassifier()\n",
    "    BaseDT.fit(feature, label)\n",
    "    y_pred = BaseDT.predict(x_test)\n",
    "    save_performance('Base Decision Tree Model', classification_task, y_test, y_pred)\n",
    "\n",
    "# Classification Task: Emotions\n",
    "BaseDTClassifier(x_train, y_train_emo, x_test, y_test_emo, 'Emotions')\n",
    "\n",
    "# Classification Task: Sentiments\n",
    "BaseDTClassifier(x_train, y_train_sen, x_test, y_test_sen, 'Sentiments')"
   ]
  },
  {
   "cell_type": "markdown",
   "id": "39a6f556",
   "metadata": {},
   "source": [
    "### 2.3.3 Base Multi-Layered Perceptron (Base-MLP) with default parameters"
   ]
  },
  {
   "cell_type": "code",
   "execution_count": null,
   "id": "b1c4e4b4",
   "metadata": {},
   "outputs": [],
   "source": []
  },
  {
   "cell_type": "markdown",
   "id": "38ce40db",
   "metadata": {},
   "source": [
    "### 2.3.4 Top Multinomial Naive Bayes (Top-MNB)"
   ]
  },
  {
   "cell_type": "code",
   "execution_count": null,
   "id": "61d8f2e3",
   "metadata": {},
   "outputs": [],
   "source": [
    "# Hyper parameters for MNB\n",
    "MNBparams = {'alpha': (0, 0.5, 1.0, 1.5)}\n",
    "\n",
    "# Function for training and testing with Top MNB\n",
    "def TopMNBClassifier(feature, label, x_test, y_test, classification_task):\n",
    "    TopMNB = GridSearchCV(estimator=MultinomialNB(), param_grid=MNBparams)\n",
    "    TopMNB.fit(feature, label)\n",
    "    y_pred = TopMNB.predict(x_test)\n",
    "    save_performance('Top Multinomial Naive Bayes Model', classification_task, y_test, y_pred, MNBparams)\n",
    "    \n",
    "# Classification Task: Emotions\n",
    "TopMNBClassifier(x_train, y_train_emo, x_test, y_test_emo, 'Emotions')\n",
    "\n",
    "# Classification Task: Sentiments\n",
    "TopMNBClassifier(x_train, y_train_sen, x_test, y_test_sen, 'Sentiments')"
   ]
  },
  {
   "cell_type": "markdown",
   "id": "a0c2e6e8",
   "metadata": {},
   "source": [
    "### 2.3.5 Top Decision Tree (Top-DT)"
   ]
  },
  {
   "cell_type": "code",
   "execution_count": null,
   "id": "4fee8c00",
   "metadata": {},
   "outputs": [],
   "source": [
    "# Hyper parameters for Top DT\n",
    "DTparams = {'criterion' : ['gini', 'entropy'], \"max_depth\" : [3, 10] ,  'min_samples_split': [2, 5, 10]\n",
    "}\n",
    "\n",
    "# Function for training and testing with Top DT\n",
    "def TopDTClassifier(feature, label, x_test, y_test, classification_task):\n",
    "    TopDT = GridSearchCV(estimator = tree.DecisionTreeClassifier(), param_grid = DTparams)\n",
    "    TopDT.fit(feature, label)\n",
    "    y_pred = TopDT.predict(x_test)\n",
    "    save_performance('Top Decision Tree Model', classification_task, y_test, y_pred, DTparams)\n",
    "    \n",
    "# Classification Task: Emotions\n",
    "TopDTClassifier(x_train, y_train_emo, x_test, y_test_emo, 'Emotions')\n",
    "\n",
    "# Classification Task: Sentiments\n",
    "TopDTClassifier(x_train, y_train_sen, x_test, y_test_sen, 'Sentiments')"
   ]
  },
  {
   "cell_type": "markdown",
   "id": "501c2a6a",
   "metadata": {},
   "source": [
    "### 2.3.6 Top Multi-Layered Perceptron (Top-MLP)"
   ]
  },
  {
   "cell_type": "code",
   "execution_count": null,
   "id": "d4f45a46",
   "metadata": {},
   "outputs": [],
   "source": []
  }
 ],
 "metadata": {
  "kernelspec": {
   "display_name": "Python 3 (ipykernel)",
   "language": "python",
   "name": "python3"
  },
  "language_info": {
   "codemirror_mode": {
    "name": "ipython",
    "version": 3
   },
   "file_extension": ".py",
   "mimetype": "text/x-python",
   "name": "python",
   "nbconvert_exporter": "python",
   "pygments_lexer": "ipython3",
   "version": "3.10.4"
  }
 },
 "nbformat": 4,
 "nbformat_minor": 5
}
