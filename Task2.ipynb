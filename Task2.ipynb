{
 "cells": [
  {
   "cell_type": "markdown",
   "id": "bbb722ec",
   "metadata": {},
   "source": [
    "## Task 2: Words as Features"
   ]
  },
  {
   "cell_type": "code",
   "execution_count": 6,
   "id": "60f8fbe5",
   "metadata": {},
   "outputs": [
    {
     "name": "stdout",
     "output_type": "stream",
     "text": [
      "Number of tokens (size of vocabulary) in the dataset:  30449\n"
     ]
    }
   ],
   "source": [
    "import gzip\n",
    "import json\n",
    "from sklearn.feature_extraction.text import CountVectorizer\n",
    "\n",
    "with gzip.open('dataset/goemotions.json.gz', 'r') as file:\n",
    "    fileData = file.read()\n",
    "    dataset = json.loads(fileData.decode('utf-8'))\n",
    "\n",
    "posts = []\n",
    "\n",
    "# Extracting posts into one list\n",
    "for i in range(len(dataset)):\n",
    "    posts.append(dataset[i][0])\n",
    "    \n",
    "vectorizer = CountVectorizer()\n",
    "vectorizer.fit(posts)\n",
    " \n",
    "# Printing the number of tokens (size of the vocabulary)\n",
    "print(\"Number of tokens (size of vocabulary) in the dataset:\", len(vectorizer.vocabulary_))"
   ]
  },
  {
   "cell_type": "markdown",
   "id": "6691b06a",
   "metadata": {},
   "source": [
    "### 2.1 Extracting tokens/words and their frequencies"
   ]
  },
  {
   "cell_type": "code",
   "execution_count": null,
   "id": "c2023797",
   "metadata": {},
   "outputs": [],
   "source": []
  }
 ],
 "metadata": {
  "kernelspec": {
   "display_name": "Python 3 (ipykernel)",
   "language": "python",
   "name": "python3"
  },
  "language_info": {
   "codemirror_mode": {
    "name": "ipython",
    "version": 3
   },
   "file_extension": ".py",
   "mimetype": "text/x-python",
   "name": "python",
   "nbconvert_exporter": "python",
   "pygments_lexer": "ipython3",
   "version": "3.10.4"
  }
 },
 "nbformat": 4,
 "nbformat_minor": 5
}
