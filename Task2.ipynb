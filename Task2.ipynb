{
 "cells": [
  {
   "cell_type": "markdown",
   "id": "bbb722ec",
   "metadata": {},
   "source": [
    "# Task 2: Words as Features"
   ]
  },
  {
   "cell_type": "markdown",
   "id": "28e37396",
   "metadata": {},
   "source": [
    "## Imports"
   ]
  },
  {
   "cell_type": "code",
   "execution_count": 1,
   "id": "22d8df5a",
   "metadata": {},
   "outputs": [],
   "source": [
    "import gzip\n",
    "import json\n",
    "import numpy as np\n",
    "from sklearn.feature_extraction.text import CountVectorizer\n",
    "from sklearn.model_selection import train_test_split\n",
    "from sklearn.model_selection import GridSearchCV\n",
    "from sklearn.metrics import confusion_matrix\n",
    "from sklearn.metrics import classification_report\n",
    "from sklearn.naive_bayes import MultinomialNB\n",
    "from sklearn.neural_network import MLPClassifier\n",
    "from sklearn import tree"
   ]
  },
  {
   "cell_type": "markdown",
   "id": "6691b06a",
   "metadata": {},
   "source": [
    "## 2.1 Extracting tokens/words and their frequencies"
   ]
  },
  {
   "cell_type": "code",
   "execution_count": 2,
   "id": "60f8fbe5",
   "metadata": {},
   "outputs": [
    {
     "name": "stdout",
     "output_type": "stream",
     "text": [
      "Number of unique tokens (size of vocabulary) in the dataset: 30449\n"
     ]
    }
   ],
   "source": [
    "with gzip.open(\"dataset/goemotions.json.gz\", \"rb\") as f:\n",
    "    data = json.loads(f.read())\n",
    "\n",
    "dataset = np.array(data)\n",
    "\n",
    "# Extracting posts, emotions and sentiments\n",
    "posts = dataset[:, 0]\n",
    "emotions = dataset[:, 1]\n",
    "sentiments = dataset[:, 2]\n",
    "\n",
    "vectorizer = CountVectorizer()\n",
    "# Creates a document-term matrix\n",
    "posts_features = vectorizer.fit_transform(posts)\n",
    "\n",
    "# Printing the number of tokens (size of the vocabulary)\n",
    "print(\"Number of unique tokens (size of vocabulary) in the dataset:\", len(vectorizer.get_feature_names_out()))"
   ]
  },
  {
   "cell_type": "markdown",
   "id": "7e355621",
   "metadata": {},
   "source": [
    "## 2.2 Split the dataset to 80% for training and 20% for testing "
   ]
  },
  {
   "cell_type": "code",
   "execution_count": 3,
   "id": "f0b6cb71",
   "metadata": {},
   "outputs": [],
   "source": [
    "# Splitting training and testing dataset for posts and emotions\n",
    "x_train, x_test, y_train_emo, y_test_emo, y_train_sen, y_test_sen = train_test_split(posts_features, emotions, sentiments, test_size=0.2, random_state=0)"
   ]
  },
  {
   "cell_type": "markdown",
   "id": "27e784e5",
   "metadata": {},
   "source": [
    "## 2.4 Saving performance for each classifier and classification (Emotions or Sentiments)"
   ]
  },
  {
   "cell_type": "code",
   "execution_count": 4,
   "id": "6a407265",
   "metadata": {},
   "outputs": [],
   "source": [
    "# Function to save output to text files\n",
    "def save_output(model_name, classification_task, y_test, y_pred, fileName, hyper_parameters=None):\n",
    "    with open(fileName, 'a') as f:\n",
    "\n",
    "        # Model name + hyper parameters + classification task\n",
    "        f.writelines(['===========================================================\\n',\n",
    "                      model_name + ' for --> ' + classification_task + '\\n(Hyper Parameters: ' + str(hyper_parameters) + ')\\n'\n",
    "                      , '===========================================================\\n'])\n",
    "        # Confusion Matrix\n",
    "        f.write('\\nConfusion Matrix:\\n-----------------\\n\\n' + str(confusion_matrix(y_test, y_pred)) + '\\n')\n",
    "        \n",
    "        # Classfication Report\n",
    "        f.write('\\nClassification Report:\\n----------------------\\n\\n' + classification_report(y_test, y_pred) + '\\n\\n')"
   ]
  },
  {
   "cell_type": "markdown",
   "id": "76bb1c18",
   "metadata": {},
   "source": [
    "## 2.3 Training and testing with classifiers"
   ]
  },
  {
   "cell_type": "markdown",
   "id": "60e44e3a",
   "metadata": {},
   "source": [
    "### 2.3.1 Base Multinomial Naive Bayes (Base-MNB) with default parameters"
   ]
  },
  {
   "cell_type": "markdown",
   "id": "25ab9c51",
   "metadata": {},
   "source": [
    "#### Function for training and testing with Base MNB"
   ]
  },
  {
   "cell_type": "code",
   "execution_count": 5,
   "id": "f65bef4d",
   "metadata": {},
   "outputs": [],
   "source": [
    "def BaseMNBClassifier (feature, label, x_test, y_test, classification_task, fileName):\n",
    "    MNB = MultinomialNB()\n",
    "    MNB.fit(feature, label)\n",
    "    y_pred = MNB.predict(x_test)\n",
    "    save_output('Multinomial Naive Bayes Model', classification_task, y_test, y_pred, fileName)"
   ]
  },
  {
   "cell_type": "markdown",
   "id": "d0549213",
   "metadata": {},
   "source": [
    "#### Training and testing with Base MNB"
   ]
  },
  {
   "cell_type": "code",
   "execution_count": null,
   "id": "8686802c",
   "metadata": {},
   "outputs": [],
   "source": [
    "# Classification Task: Emotions\n",
    "BaseMNBClassifier(x_train, y_train_emo, x_test, y_test_emo, 'Emotions', 'performance.txt')\n",
    "\n",
    "# Classification Task: Sentiments\n",
    "BaseMNBClassifier(x_train, y_train_sen, x_test, y_test_sen, 'Sentiments', 'performance.txt')"
   ]
  },
  {
   "cell_type": "markdown",
   "id": "e40f28d1",
   "metadata": {},
   "source": [
    "### 2.3.2 Base Decision Tree (Base-DT) with default parameters"
   ]
  },
  {
   "cell_type": "markdown",
   "id": "2f5ce0a4",
   "metadata": {},
   "source": [
    "#### Function for training and testing with Base DT"
   ]
  },
  {
   "cell_type": "code",
   "execution_count": 6,
   "id": "8bfaddf1",
   "metadata": {},
   "outputs": [],
   "source": [
    "def BaseDTClassifier(feature, label, x_test, y_test, classification_task, fileName):\n",
    "    BaseDT = tree.DecisionTreeClassifier()\n",
    "    BaseDT.fit(feature, label)\n",
    "    y_pred = BaseDT.predict(x_test)\n",
    "    save_output('Base Decision Tree Model', classification_task, y_test, y_pred, fileName)"
   ]
  },
  {
   "cell_type": "markdown",
   "id": "556a2483",
   "metadata": {},
   "source": [
    "#### Training and testing with Base DT"
   ]
  },
  {
   "cell_type": "code",
   "execution_count": null,
   "id": "cf6c539c",
   "metadata": {},
   "outputs": [],
   "source": [
    "# Classification Task: Emotions\n",
    "BaseDTClassifier(x_train, y_train_emo, x_test, y_test_emo, 'Emotions', 'performance.txt')\n",
    "\n",
    "# Classification Task: Sentiments\n",
    "BaseDTClassifier(x_train, y_train_sen, x_test, y_test_sen, 'Sentiments', 'performance.txt')"
   ]
  },
  {
   "cell_type": "markdown",
   "id": "39a6f556",
   "metadata": {},
   "source": [
    "### 2.3.3 Base Multi-Layered Perceptron (Base-MLP) with default parameters"
   ]
  },
  {
   "cell_type": "markdown",
   "id": "c8d2a13f",
   "metadata": {},
   "source": [
    "#### Function for training and testing with Base MLP"
   ]
  },
  {
   "cell_type": "code",
   "execution_count": 7,
   "id": "b1c4e4b4",
   "metadata": {},
   "outputs": [],
   "source": [
    "# Although we are asked to use default parameters and dataset is large, the MLP model takes too long to train. \n",
    "# Hence, we set a parameter of max iteration to 2. (Takes about 2 minutes to train for each classification task)\n",
    "def BaseMLPClassifier(feature, label, x_test, y_test, classification_task, fileName):\n",
    "    MLP = MLPClassifier(max_iter=2)\n",
    "    MLP.fit(feature, label)\n",
    "    y_pred = MLP.predict(x_test)\n",
    "    save_output('Base Multi-Layered Perceptron Model', classification_task, y_test, y_pred, fileName)"
   ]
  },
  {
   "cell_type": "markdown",
   "id": "fa7f32f4",
   "metadata": {},
   "source": [
    "#### Training and testing with Base MLP"
   ]
  },
  {
   "cell_type": "code",
   "execution_count": null,
   "id": "ebc79b6e",
   "metadata": {},
   "outputs": [],
   "source": [
    "# Classification Task: Emotions\n",
    "BaseMLPClassifier(x_train, y_train_emo, x_test, y_test_emo, 'Emotions', 'performance.txt')\n",
    "\n",
    "# Classification Task: Sentiments\n",
    "BaseMLPClassifier(x_train, y_train_sen, x_test, y_test_sen, 'Sentiments', 'performance.txt')"
   ]
  },
  {
   "cell_type": "markdown",
   "id": "38ce40db",
   "metadata": {},
   "source": [
    "### 2.3.4 Top Multinomial Naive Bayes (Top-MNB)"
   ]
  },
  {
   "cell_type": "markdown",
   "id": "f6511314",
   "metadata": {},
   "source": [
    "#### Function for training and testing with Top MNB"
   ]
  },
  {
   "cell_type": "code",
   "execution_count": 8,
   "id": "61d8f2e3",
   "metadata": {},
   "outputs": [],
   "source": [
    "# Hyper parameters for MNB\n",
    "MNBparams = {'alpha': (0, 0.5, 1.0, 1.5)}\n",
    "\n",
    "def TopMNBClassifier(feature, label, x_test, y_test, classification_task, fileName):\n",
    "    TopMNB = GridSearchCV(estimator=MultinomialNB(), param_grid=MNBparams)\n",
    "    TopMNB.fit(feature, label)\n",
    "    y_pred = TopMNB.predict(x_test)\n",
    "    save_output('Top Multinomial Naive Bayes Model', classification_task, y_test, y_pred, fileName, MNBparams)"
   ]
  },
  {
   "cell_type": "markdown",
   "id": "f730a548",
   "metadata": {},
   "source": [
    "#### Training and testing with Top MNB"
   ]
  },
  {
   "cell_type": "code",
   "execution_count": null,
   "id": "364a7702",
   "metadata": {},
   "outputs": [],
   "source": [
    "# Classification Task: Emotions\n",
    "TopMNBClassifier(x_train, y_train_emo, x_test, y_test_emo, 'Emotions', 'performance.txt')\n",
    "\n",
    "# Classification Task: Sentiments\n",
    "TopMNBClassifier(x_train, y_train_sen, x_test, y_test_sen, 'Sentiments', 'performance.txt')"
   ]
  },
  {
   "cell_type": "markdown",
   "id": "a0c2e6e8",
   "metadata": {},
   "source": [
    "### 2.3.5 Top Decision Tree (Top-DT)"
   ]
  },
  {
   "cell_type": "markdown",
   "id": "e8eba0a0",
   "metadata": {},
   "source": [
    "#### Function for training and testing with Top DT"
   ]
  },
  {
   "cell_type": "code",
   "execution_count": 9,
   "id": "4fee8c00",
   "metadata": {},
   "outputs": [],
   "source": [
    "# Hyper parameters for Top DT\n",
    "DTparams = {'criterion' : ['gini', 'entropy'], \"max_depth\" : [3, 10] ,  'min_samples_split': [2, 5, 10]\n",
    "}\n",
    "\n",
    "# Function for training and testing with Top DT\n",
    "def TopDTClassifier(feature, label, x_test, y_test, classification_task, fileName):\n",
    "    TopDT = GridSearchCV(estimator = tree.DecisionTreeClassifier(), param_grid = DTparams)\n",
    "    TopDT.fit(feature, label)\n",
    "    y_pred = TopDT.predict(x_test)\n",
    "    save_output('Top Decision Tree Model', classification_task, y_test, y_pred, fileName, DTparams)"
   ]
  },
  {
   "cell_type": "markdown",
   "id": "493e2444",
   "metadata": {},
   "source": [
    "#### Training and testing with Top DT"
   ]
  },
  {
   "cell_type": "code",
   "execution_count": null,
   "id": "b3cdf225",
   "metadata": {},
   "outputs": [],
   "source": [
    "# Classification Task: Emotions\n",
    "TopDTClassifier(x_train, y_train_emo, x_test, y_test_emo, 'Emotions', 'performance.txt')\n",
    "\n",
    "# Classification Task: Sentiments\n",
    "TopDTClassifier(x_train, y_train_sen, x_test, y_test_sen, 'Sentiments', 'performance.txt')"
   ]
  },
  {
   "cell_type": "markdown",
   "id": "501c2a6a",
   "metadata": {},
   "source": [
    "### 2.3.6 Top Multi-Layered Perceptron (Top-MLP)"
   ]
  },
  {
   "cell_type": "markdown",
   "id": "ff2c4f1e",
   "metadata": {},
   "source": [
    "#### Function for training and testing with Top MLP"
   ]
  },
  {
   "cell_type": "code",
   "execution_count": 10,
   "id": "d4f45a46",
   "metadata": {},
   "outputs": [],
   "source": [
    "# Hyper parameters for Top-MLP\n",
    "MLPparams = {'activation': ('logistic', 'tanh', 'relu', 'identity'),\n",
    "            'hidden_layer_sizes': ((120,), (30, 30)),\n",
    "            'solver': ('adam', 'sgd')}\n",
    "\n",
    "# Because the dataset is too large, the MLP model takes too long to train. Hence, we set a parameter of max\n",
    "# iteration to 2. (Takes about 2 minutes to train for each combination of parameters and classification task)\n",
    "def TopMLPClassifier(feature, label, x_test, y_test, classification_task, fileName):\n",
    "    TopMLP = GridSearchCV(estimator=MLPClassifier(max_iter=2), param_grid=MLPparams)\n",
    "    TopMLP.fit(feature, label)\n",
    "    y_pred = TopMLP.predict(x_test)\n",
    "    save_output('Top Multi-Layered Perceptron Model', classification_task, y_test, y_pred, fileName, MLPparams)"
   ]
  },
  {
   "cell_type": "markdown",
   "id": "8c1c3b81",
   "metadata": {},
   "source": [
    "#### Training and testing with Top MLP"
   ]
  },
  {
   "cell_type": "code",
   "execution_count": null,
   "id": "055d7130",
   "metadata": {},
   "outputs": [],
   "source": [
    "# Classification Task: Emotions\n",
    "TopMLPClassifier(x_train, y_train_emo, x_test, y_test_emo, 'Emotions', 'performance.txt')\n",
    "\n",
    "# Classification Task: Sentiments\n",
    "TopMLPClassifier(x_train, y_train_sen, x_test, y_test_sen, 'Sentiments', 'performance.txt')"
   ]
  },
  {
   "cell_type": "markdown",
   "id": "7605e6c9",
   "metadata": {},
   "source": [
    "## 2.5 Exploration with stop words removal"
   ]
  },
  {
   "cell_type": "markdown",
   "id": "f44a67a6",
   "metadata": {},
   "source": [
    "### Removing stop words with parameter in CountVectorizer"
   ]
  },
  {
   "cell_type": "code",
   "execution_count": null,
   "id": "59a9d1b8",
   "metadata": {},
   "outputs": [],
   "source": [
    "stopWordsVectorizer = CountVectorizer(stop_words='english')\n",
    "# Creates a document-term matrix\n",
    "postsWithoutStopWords = stopWordsVectorizer.fit_transform(posts)"
   ]
  },
  {
   "cell_type": "markdown",
   "id": "a5d7e4bc",
   "metadata": {},
   "source": [
    "### Splitting dataset without stop words into training (80%) and testing (20%) "
   ]
  },
  {
   "cell_type": "code",
   "execution_count": null,
   "id": "d0a545bc",
   "metadata": {},
   "outputs": [],
   "source": [
    "# Splitting training and testing dataset for posts and emotions without stop words\n",
    "x_train_stop, x_test_stop, y_train_emo_stop, y_test_emo_stop, y_train_sen_stop, y_test_sen_stop = train_test_split(postsWithoutStopWords, emotions, sentiments, test_size=0.2, random_state=0)"
   ]
  },
  {
   "cell_type": "markdown",
   "id": "f2a1090f",
   "metadata": {},
   "source": [
    "### Training and testing new dataset with all models from 2.3"
   ]
  },
  {
   "cell_type": "markdown",
   "id": "d032eeda",
   "metadata": {},
   "source": [
    "#### Model: Base MNB"
   ]
  },
  {
   "cell_type": "code",
   "execution_count": null,
   "id": "4ef76f84",
   "metadata": {},
   "outputs": [],
   "source": [
    "# Classification Task: Emotions\n",
    "BaseMNBClassifier(x_train_stop, y_train_emo_stop, x_test_stop, y_test_emo_stop, 'Emotions', 'experiment.txt')\n",
    "\n",
    "# Classification Task: Sentiments\n",
    "BaseMNBClassifier(x_train_stop, y_train_sen_stop, x_test_stop, y_test_sen_stop, 'Sentiments', 'experiment.txt')"
   ]
  },
  {
   "cell_type": "markdown",
   "id": "75b87a75",
   "metadata": {},
   "source": [
    "#### Model: Base DT"
   ]
  },
  {
   "cell_type": "code",
   "execution_count": null,
   "id": "f7d4cf9a",
   "metadata": {},
   "outputs": [],
   "source": [
    "# Classification Task: Emotions\n",
    "BaseDTClassifier(x_train_stop, y_train_emo_stop, x_test_stop, y_test_emo_stop, 'Emotions', 'experiment.txt')\n",
    "\n",
    "# Classification Task: Sentiments\n",
    "BaseDTClassifier(x_train_stop, y_train_sen_stop, x_test_stop, y_test_sen_stop, 'Sentiments', 'experiment.txt')"
   ]
  },
  {
   "cell_type": "markdown",
   "id": "eb1e33bd",
   "metadata": {},
   "source": [
    "#### Model: Base MLP"
   ]
  },
  {
   "cell_type": "code",
   "execution_count": null,
   "id": "6425ead3",
   "metadata": {},
   "outputs": [],
   "source": [
    "# Classification Task: Emotions\n",
    "BaseMLPClassifier(x_train_stop, y_train_emo_stop, x_test_stop, y_test_emo_stop, 'Emotions', 'experiment.txt')\n",
    "\n",
    "# Classification Task: Sentiments\n",
    "BaseMLPClassifier(x_train_stop, y_train_sen_stop, x_test_stop, y_test_sen_stop, 'Sentiments', 'experiment.txt')"
   ]
  },
  {
   "cell_type": "markdown",
   "id": "be74922e",
   "metadata": {},
   "source": [
    "#### Model: Top MNB"
   ]
  },
  {
   "cell_type": "code",
   "execution_count": null,
   "id": "8a2b834c",
   "metadata": {},
   "outputs": [],
   "source": [
    "# Classification Task: Emotions\n",
    "TopMNBClassifier(x_train_stop, y_train_emo_stop, x_test_stop, y_test_emo_stop, 'Emotions', 'experiment.txt')\n",
    "\n",
    "# Classification Task: Sentiments\n",
    "TopMNBClassifier(x_train_stop, y_train_sen_stop, x_test_stop, y_test_sen_stop, 'Sentiments', 'experiment.txt')"
   ]
  },
  {
   "cell_type": "markdown",
   "id": "751f37bb",
   "metadata": {},
   "source": [
    "#### Model: Top DT"
   ]
  },
  {
   "cell_type": "code",
   "execution_count": null,
   "id": "6fd27b9e",
   "metadata": {},
   "outputs": [],
   "source": [
    "# Classification Task: Emotions\n",
    "TopDTClassifier(x_train_stop, y_train_emo_stop, x_test_stop, y_test_emo_stop, 'Emotions', 'experiment.txt')\n",
    "\n",
    "# Classification Task: Sentiments\n",
    "TopDTClassifier(x_train_stop, y_train_sen_stop, x_test_stop, y_test_sen_stop, 'Sentiments', 'experiment.txt')"
   ]
  },
  {
   "cell_type": "markdown",
   "id": "579d13e5",
   "metadata": {},
   "source": [
    "#### Model: Top MLP"
   ]
  },
  {
   "cell_type": "code",
   "execution_count": null,
   "id": "1aca1754",
   "metadata": {},
   "outputs": [],
   "source": [
    "# Classification Task: Emotions\n",
    "TopMLPClassifier(x_train_stop, y_train_emo_stop, x_test_stop, y_test_emo_stop, 'Emotions', 'experiment.txt')\n",
    "\n",
    "# Classification Task: Sentiments\n",
    "TopMLPClassifier(x_train_stop, y_train_sen_stop, x_test_stop, y_test_sen_stop, 'Sentiments', 'experiment.txt')"
   ]
  }
 ],
 "metadata": {
  "kernelspec": {
   "display_name": "Python 3 (ipykernel)",
   "language": "python",
   "name": "python3"
  },
  "language_info": {
   "codemirror_mode": {
    "name": "ipython",
    "version": 3
   },
   "file_extension": ".py",
   "mimetype": "text/x-python",
   "name": "python",
   "nbconvert_exporter": "python",
   "pygments_lexer": "ipython3",
   "version": "3.10.4"
  }
 },
 "nbformat": 4,
 "nbformat_minor": 5
}
