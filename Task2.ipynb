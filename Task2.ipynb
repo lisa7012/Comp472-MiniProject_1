{
 "cells": [
  {
   "cell_type": "markdown",
   "id": "bbb722ec",
   "metadata": {},
   "source": [
    "## Task 2: Words as Features"
   ]
  },
  {
   "cell_type": "markdown",
   "id": "6691b06a",
   "metadata": {},
   "source": [
    "### 2.1 Extracting tokens/words and their frequencies"
   ]
  },
  {
   "cell_type": "code",
   "execution_count": 1,
   "id": "60f8fbe5",
   "metadata": {},
   "outputs": [
    {
     "name": "stdout",
     "output_type": "stream",
     "text": [
      "Number of unique tokens (size of vocabulary) in the dataset: 30449\n"
     ]
    }
   ],
   "source": [
    "import gzip\n",
    "import json\n",
    "import numpy as np\n",
    "from sklearn.feature_extraction.text import CountVectorizer\n",
    "from sklearn.model_selection import train_test_split\n",
    "\n",
    "with gzip.open(\"dataset/goemotions.json.gz\", \"rb\") as f:\n",
    "    data = json.loads(f.read())\n",
    "\n",
    "dataset = np.array(data)\n",
    "\n",
    "# Extracting posts, emotions and sentiments\n",
    "posts = dataset[:, 0]\n",
    "emotions = dataset[:, 1]\n",
    "sentiments = dataset[:, 2]\n",
    "\n",
    "vectorizer = CountVectorizer()\n",
    "# Creates a document-term matrix\n",
    "posts_features = vectorizer.fit_transform(posts)\n",
    "\n",
    "# Printing the number of tokens (size of the vocabulary)\n",
    "print(\"Number of unique tokens (size of vocabulary) in the dataset:\", len(vectorizer.get_feature_names_out()))"
   ]
  },
  {
   "cell_type": "markdown",
   "id": "7e355621",
   "metadata": {},
   "source": [
    "### 2.2 Split the dataset to 80% for training and 20% for testing for each model"
   ]
  },
  {
   "cell_type": "code",
   "execution_count": 2,
   "id": "f0b6cb71",
   "metadata": {},
   "outputs": [],
   "source": [
    "# Training and testing dataset for posts and emotions\n",
    "x_train_emo, x_test_emo, y_train_emo, y_test_emo = train_test_split(posts_features, emotions, test_size=0.2, random_state=0)\n",
    "\n",
    "# Training and testing dataset for posts and sentiments\n",
    "x_train_sen, x_test_sen, y_train_sen, y_test_sen = train_test_split(posts_features, sentiments, test_size=0.2, random_state=0)"
   ]
  },
  {
   "cell_type": "code",
   "execution_count": null,
   "id": "f25b114c",
   "metadata": {},
   "outputs": [],
   "source": []
  }
 ],
 "metadata": {
  "kernelspec": {
   "display_name": "Python 3 (ipykernel)",
   "language": "python",
   "name": "python3"
  },
  "language_info": {
   "codemirror_mode": {
    "name": "ipython",
    "version": 3
   },
   "file_extension": ".py",
   "mimetype": "text/x-python",
   "name": "python",
   "nbconvert_exporter": "python",
   "pygments_lexer": "ipython3",
   "version": "3.10.4"
  }
 },
 "nbformat": 4,
 "nbformat_minor": 5
}
